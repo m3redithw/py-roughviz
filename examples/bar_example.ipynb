{
 "cells": [
  {
   "cell_type": "code",
   "execution_count": 1,
   "metadata": {},
   "outputs": [],
   "source": [
    "import sys\n",
    "sys.path.append(\"..\")\n",
    "\n",
    "from roughviz.charts.bar import Bar"
   ]
  },
  {
   "cell_type": "code",
   "execution_count": 2,
   "metadata": {},
   "outputs": [
    {
     "data": {
      "text/html": [
       "<html>\n",
       "<body>\n",
       "\n",
       "<div id=fb53c18af6724565837c46070e18c6e6></div>\n",
       "\n",
       "<script src=\"https://requirejs.org/docs/release/2.3.6/minified/require.js\"></script>\n",
       "<script>\n",
       "require.config({paths: {roughViz: \"https://unpkg.com/rough-viz@1.0.5/dist/roughviz.min\"}});\n",
       "require([\"roughViz\"], function(roughViz) {\n",
       "\n",
       "new roughViz.Bar(\n",
       "  {\"labels\": null, \"values\": null, \"data\": {\"labels\": [\"North\", \"South\", \"East\", \"West\"], \"values\": [10, 5, 8, 3]}, \"title\": \"Regions\", \"margin\": {\"top\": 50, \"right\": 20, \"bottom\": 70, \"left\": 100}, \"width\": 800, \"height\": 600, \"interactive\": true, \"bowing\": 0.2, \"fillStyle\": \"cross-hatch\", \"fillWeight\": 0, \"strokeWidth\": 1, \"roughness\": 1, \"tooltipFontSize\": \"0.95rem\", \"titleFontSize\": \"0.95rem\", \"xLabel\": \"\", \"yLabel\": \"\", \"axisFontSize\": \"1.5rem\", \"labelFontSize\": \"2rem\", \"color\": \"skyblue\", \"axisRoughness\": 0.5, \"axisStrokeWidth\": 0.5, \"highlight\": \"green\", \"innerStrokeWidth\": 0, \"padding\": 0.1, \"simplification\": 0.2, \"stroke\": \"black\", \"element\": \"#fb53c18af6724565837c46070e18c6e6\"}\n",
       ");\n",
       "\tvar text = document.querySelectorAll(\".xAxisfb53c18af6724565837c46070e18c6e6 .tick text\");\n",
       "\tvar i;\n",
       "\tfor (i = 0; i < text.length; i++) {\n",
       "\t\ttext[i].setAttribute(\"transform\", \"rotate(0)\");\n",
       "\t\ttext[i].style.textAnchor=\"middle\";\n",
       "\t}\n",
       "\tdocument.getElementById(\"fb53c18af6724565837c46070e18c6e6\").style.height = \"px\";\n",
       "\tdocument.querySelector(\"#fb53c18af6724565837c46070e18c6e6 svg\").style.height = \"px\";\n",
       "});\n",
       "</script>\n",
       "\n",
       "</body>\n",
       "</html>"
      ],
      "text/plain": [
       "<IPython.core.display.HTML object>"
      ]
     },
     "metadata": {},
     "output_type": "display_data"
    }
   ],
   "source": [
    "# Basic Plotting using dictionary data.\n",
    "\n",
    "data = {\n",
    "    \"labels\": [\"North\", \"South\", \"East\", \"West\"],\n",
    "    \"values\": [10, 5, 8, 3]\n",
    "}\n",
    "\n",
    "bar = Bar(data=data, title=\"Regions\")\n",
    "bar.show()"
   ]
  },
  {
   "cell_type": "code",
   "execution_count": 12,
   "metadata": {},
   "outputs": [
    {
     "data": {
      "text/html": [
       "<html>\n",
       "<body>\n",
       "\n",
       "<div id=b11ed2bd684a410bb5a9515367e766f1></div>\n",
       "\n",
       "<script src=\"https://requirejs.org/docs/release/2.3.6/minified/require.js\"></script>\n",
       "<script>\n",
       "require.config({paths: {roughViz: \"https://unpkg.com/rough-viz@1.0.5/dist/roughviz.min\"}});\n",
       "require([\"roughViz\"], function(roughViz) {\n",
       "\n",
       "new roughViz.Bar(\n",
       "  {\"labels\": null, \"values\": null, \"data\": {\"labels\": [\"Fashion & Beauty\", \"Fitness & Lifestyle\", \"Food\", \"Humor\", \"Politics\"], \"values\": [1962099, 1351021, 3593645, 3059619, 628097]}, \"title\": \"Avg. Influencer's Following Counts per Category\", \"margin\": {\"top\": 50, \"right\": 20, \"bottom\": 70, \"left\": 100}, \"width\": 800, \"height\": 600, \"interactive\": true, \"bowing\": 0.2, \"fillStyle\": \"cross-hatch\", \"fillWeight\": 0, \"strokeWidth\": 1, \"roughness\": 1, \"tooltipFontSize\": \"0.95rem\", \"titleFontSize\": \"3rem\", \"xLabel\": \"\", \"yLabel\": \"\", \"axisFontSize\": \"1.5rem\", \"labelFontSize\": \"2rem\", \"color\": \"skyblue\", \"axisRoughness\": 0.5, \"axisStrokeWidth\": 0.5, \"highlight\": \"green\", \"innerStrokeWidth\": 0, \"padding\": 0.1, \"simplification\": 0.2, \"stroke\": \"black\", \"element\": \"#b11ed2bd684a410bb5a9515367e766f1\"}\n",
       ");\n",
       "\tvar text = document.querySelectorAll(\".xAxisb11ed2bd684a410bb5a9515367e766f1 .tick text\");\n",
       "\tvar i;\n",
       "\tfor (i = 0; i < text.length; i++) {\n",
       "\t\ttext[i].setAttribute(\"transform\", \"rotate(0)\");\n",
       "\t\ttext[i].style.textAnchor=\"middle\";\n",
       "\t}\n",
       "\tdocument.getElementById(\"b11ed2bd684a410bb5a9515367e766f1\").style.height = \"px\";\n",
       "\tdocument.querySelector(\"#b11ed2bd684a410bb5a9515367e766f1 svg\").style.height = \"px\";\n",
       "});\n",
       "</script>\n",
       "\n",
       "</body>\n",
       "</html>"
      ],
      "text/plain": [
       "<IPython.core.display.HTML object>"
      ]
     },
     "metadata": {},
     "output_type": "display_data"
    }
   ],
   "source": [
    "data = {\n",
    "    \"labels\": ['Fashion & Beauty', 'Fitness & Lifestyle', 'Food', 'Humor', 'Politics'],\n",
    "    \"values\": [1962099, 1351021, 3593645, 3059619, 628097]\n",
    "}\n",
    "bar = Bar(data=data, title=\"Avg. Influencer's Following Counts per Category\", title_fontsize=3)\n",
    "# bar.set_options(xlabel=\"category\", ylabel=\"follower count\")\n",
    "bar.show()"
   ]
  },
  {
   "cell_type": "code",
   "execution_count": 13,
   "metadata": {},
   "outputs": [
    {
     "data": {
      "text/html": [
       "<html>\n",
       "<body>\n",
       "\n",
       "<div id=87688d9080c44340a7a804786f0f3fcf></div>\n",
       "\n",
       "<script src=\"https://requirejs.org/docs/release/2.3.6/minified/require.js\"></script>\n",
       "<script>\n",
       "require.config({paths: {roughViz: \"https://unpkg.com/rough-viz@1.0.5/dist/roughviz.min\"}});\n",
       "require([\"roughViz\"], function(roughViz) {\n",
       "\n",
       "new roughViz.Bar(\n",
       "  {\"labels\": null, \"values\": null, \"data\": {\"labels\": [\"North\", \"South\", \"East\", \"West\"], \"values\": [10, 5, 8, 3]}, \"title\": \"Regions\", \"margin\": {\"top\": 50, \"right\": 20, \"bottom\": 70, \"left\": 100}, \"width\": 800, \"height\": 600, \"interactive\": true, \"bowing\": 0.2, \"fillStyle\": \"cross-hatch\", \"fillWeight\": 0, \"strokeWidth\": 1, \"roughness\": 1, \"tooltipFontSize\": \"0.95rem\", \"titleFontSize\": \"0.95rem\", \"xLabel\": \"Region\", \"yLabel\": \"Number\", \"axisFontSize\": \"1.5rem\", \"labelFontSize\": \"3rem\", \"color\": \"skyblue\", \"axisRoughness\": 0.5, \"axisStrokeWidth\": 0.5, \"highlight\": \"green\", \"innerStrokeWidth\": 0, \"padding\": 0.1, \"simplification\": 0.2, \"stroke\": \"black\", \"element\": \"#87688d9080c44340a7a804786f0f3fcf\"}\n",
       ");\n",
       "\tvar text = document.querySelectorAll(\".xAxis87688d9080c44340a7a804786f0f3fcf .tick text\");\n",
       "\tvar i;\n",
       "\tfor (i = 0; i < text.length; i++) {\n",
       "\t\ttext[i].setAttribute(\"transform\", \"rotate(0)\");\n",
       "\t\ttext[i].style.textAnchor=\"middle\";\n",
       "\t}\n",
       "\tdocument.getElementById(\"87688d9080c44340a7a804786f0f3fcf\").style.height = \"px\";\n",
       "\tdocument.querySelector(\"#87688d9080c44340a7a804786f0f3fcf svg\").style.height = \"px\";\n",
       "});\n",
       "</script>\n",
       "\n",
       "</body>\n",
       "</html>"
      ],
      "text/plain": [
       "<IPython.core.display.HTML object>"
      ]
     },
     "metadata": {},
     "output_type": "display_data"
    }
   ],
   "source": [
    "# Except setting options during initialization, you could also add options alongside\n",
    "\n",
    "data = {\n",
    "    \"labels\": [\"North\", \"South\", \"East\", \"West\"],\n",
    "    \"values\": [10, 5, 8, 3]\n",
    "}\n",
    "\n",
    "bar = Bar(data=data, title=\"Regions\")\n",
    "bar.set_xlabel(\"Region\", fontsize=3)\n",
    "bar.set_ylabel(\"Number\", fontsize=3)\n",
    "bar.show()"
   ]
  },
  {
   "cell_type": "code",
   "execution_count": 14,
   "metadata": {},
   "outputs": [
    {
     "data": {
      "text/html": [
       "<html>\n",
       "<body>\n",
       "\n",
       "<div id=ea5eecc6840941a3b913d42ad0f2de92></div>\n",
       "\n",
       "<script src=\"https://requirejs.org/docs/release/2.3.6/minified/require.js\"></script>\n",
       "<script>\n",
       "require.config({paths: {roughViz: \"https://unpkg.com/rough-viz@1.0.5/dist/roughviz.min\"}});\n",
       "require([\"roughViz\"], function(roughViz) {\n",
       "\n",
       "new roughViz.Bar(\n",
       "  {\"labels\": null, \"values\": null, \"data\": {\"labels\": [\"North\", \"South\", \"East\", \"West\"], \"values\": [10, 5, 8, 3]}, \"title\": \"Regions\", \"margin\": {\"top\": 50, \"right\": 20, \"bottom\": 70, \"left\": 100}, \"width\": 800, \"height\": 600, \"interactive\": true, \"bowing\": 0.2, \"fillStyle\": \"cross-hatch\", \"fillWeight\": 0, \"strokeWidth\": 1, \"roughness\": 1, \"tooltipFontSize\": \"0.95rem\", \"titleFontSize\": \"3rem\", \"xLabel\": \"Region\", \"yLabel\": \"Number\", \"axisFontSize\": \"1.5rem\", \"labelFontSize\": \"2rem\", \"color\": \"orange\", \"axisRoughness\": 0.5, \"axisStrokeWidth\": 0.5, \"highlight\": \"green\", \"innerStrokeWidth\": 0, \"padding\": 0.1, \"simplification\": 0.2, \"stroke\": \"black\", \"element\": \"#ea5eecc6840941a3b913d42ad0f2de92\"}\n",
       ");\n",
       "\tvar text = document.querySelectorAll(\".xAxisea5eecc6840941a3b913d42ad0f2de92 .tick text\");\n",
       "\tvar i;\n",
       "\tfor (i = 0; i < text.length; i++) {\n",
       "\t\ttext[i].setAttribute(\"transform\", \"rotate(0)\");\n",
       "\t\ttext[i].style.textAnchor=\"middle\";\n",
       "\t}\n",
       "\tdocument.getElementById(\"ea5eecc6840941a3b913d42ad0f2de92\").style.height = \"px\";\n",
       "\tdocument.querySelector(\"#ea5eecc6840941a3b913d42ad0f2de92 svg\").style.height = \"px\";\n",
       "});\n",
       "</script>\n",
       "\n",
       "</body>\n",
       "</html>"
      ],
      "text/plain": [
       "<IPython.core.display.HTML object>"
      ]
     },
     "metadata": {},
     "output_type": "display_data"
    }
   ],
   "source": [
    "# Or you could add options in a dictionary and add them in one go\n",
    "\n",
    "data = {\n",
    "    \"labels\": [\"North\", \"South\", \"East\", \"West\"],\n",
    "    \"values\": [10, 5, 8, 3]\n",
    "}\n",
    "\n",
    "bar = Bar(data=data, title=\"Regions\", title_fontsize=3)\n",
    "bar.set_options(xlabel=\"Region\", ylabel=\"Number\", color=\"orange\")\n",
    "bar.show()"
   ]
  },
  {
   "cell_type": "code",
   "execution_count": 5,
   "metadata": {},
   "outputs": [
    {
     "data": {
      "text/html": [
       "<html>\n",
       "<body>\n",
       "\n",
       "<div id=f607c9f7a1fd4a80ac2bb837ff779ece></div>\n",
       "\n",
       "<script src=\"https://requirejs.org/docs/release/2.3.6/minified/require.js\"></script>\n",
       "<script>\n",
       "require.config({paths: {roughViz: \"https://unpkg.com/rough-viz@1.0.5/dist/roughviz.min\"}});\n",
       "require([\"roughViz\"], function(roughViz) {\n",
       "\n",
       "new roughViz.Bar(\n",
       "  {\"labels\": \"a\", \"values\": \"b\", \"data\": \"example_datasets/vis2.csv\", \"title\": \"Regions\", \"width\": 800, \"height\": 600, \"interactive\": true, \"bowing\": 0.2, \"fillStyle\": \"cross-hatch\", \"fillWeight\": 0, \"strokeWidth\": 1, \"roughness\": 1, \"tooltipFontSize\": \"0.95rem\", \"titleFontSize\": \"3rem\", \"xLabel\": \"Region\", \"yLabel\": \"Number\", \"axisFontSize\": \"1.5rem\", \"labelFontSize\": \"2rem\", \"color\": \"orange\", \"axisRoughness\": 0.5, \"highlight\": \"green\", \"innerStrokeWidth\": 0, \"padding\": 0.1, \"simplification\": 0.2, \"stroke\": \"black\", \"element\": \"#f607c9f7a1fd4a80ac2bb837ff779ece\"}\n",
       ");\n",
       "\tvar text = document.querySelectorAll(\".xAxisf607c9f7a1fd4a80ac2bb837ff779ece .tick text\");\n",
       "\tvar i;\n",
       "\tfor (i = 0; i < text.length; i++) {\n",
       "\t\ttext[i].setAttribute(\"transform\", \"rotate(0)\");\n",
       "\t\ttext[i].style.textAnchor=\"middle\";\n",
       "\t}\n",
       "\tdocument.getElementById(\"f607c9f7a1fd4a80ac2bb837ff779ece\").style.height = \"px\";\n",
       "\tdocument.querySelector(\"#f607c9f7a1fd4a80ac2bb837ff779ece svg\").style.height = \"px\";\n",
       "});\n",
       "</script>\n",
       "\n",
       "</body>\n",
       "</html>"
      ],
      "text/plain": [
       "<IPython.core.display.HTML object>"
      ]
     },
     "metadata": {},
     "output_type": "display_data"
    }
   ],
   "source": [
    "# Example to call from csv\n",
    "\n",
    "bar = Bar(data=\"example_datasets/vis2.csv\", labels=\"a\", values=\"b\", title=\"Regions\", title_fontsize=3)\n",
    "bar.set_options(xlabel=\"Region\", ylabel=\"Number\", color=\"orange\")\n",
    "bar.show()"
   ]
  },
  {
   "cell_type": "code",
   "execution_count": null,
   "metadata": {},
   "outputs": [],
   "source": []
  }
 ],
 "metadata": {
  "kernelspec": {
   "display_name": "Python 3 (ipykernel)",
   "language": "python",
   "name": "python3"
  },
  "language_info": {
   "codemirror_mode": {
    "name": "ipython",
    "version": 3
   },
   "file_extension": ".py",
   "mimetype": "text/x-python",
   "name": "python",
   "nbconvert_exporter": "python",
   "pygments_lexer": "ipython3",
   "version": "3.9.12"
  }
 },
 "nbformat": 4,
 "nbformat_minor": 2
}
