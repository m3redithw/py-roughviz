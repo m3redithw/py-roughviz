{
 "cells": [
  {
   "cell_type": "code",
   "execution_count": 1,
   "metadata": {},
   "outputs": [],
   "source": [
    "import sys\n",
    "sys.path.append(\"..\")\n",
    "\n",
    "from roughviz.charts.donut import Donut"
   ]
  },
  {
   "cell_type": "code",
   "execution_count": 2,
   "metadata": {},
   "outputs": [
    {
     "data": {
      "text/html": [
       "<html>\n",
       "<body>\n",
       "\n",
       "<div id=d13f9c976db2412eb6ade4bdd871a841></div>\n",
       "\n",
       "<script src=\"https://requirejs.org/docs/release/2.3.6/minified/require.js\"></script>\n",
       "<script>\n",
       "require.config({paths: {roughViz: \"https://unpkg.com/rough-viz@1.0.5/dist/roughviz.min\"}});\n",
       "require([\"roughViz\"], function(roughViz) {\n",
       "\n",
       "new roughViz.Donut(\n",
       "  {\"labels\": null, \"values\": null, \"data\": {\"labels\": [\"a\", \"b\"], \"values\": [10, 20]}, \"title\": \"Donut Plot\", \"margin\": {\"top\": 50, \"right\": 20, \"bottom\": 70, \"left\": 100}, \"width\": 800, \"height\": 600, \"interactive\": true, \"bowing\": 0.2, \"fillStyle\": \"cross-hatch\", \"fillWeight\": 0, \"strokeWidth\": 1, \"roughness\": 1, \"tooltipFontSize\": \"0.95rem\", \"titleFontSize\": \"2rem\", \"font\": 0, \"highlight\": \"green\", \"innerStrokeWidth\": 0, \"simplification\": 0.2, \"padding\": 0.1, \"legend\": true, \"legendPosition\": \"right\", \"element\": \"#d13f9c976db2412eb6ade4bdd871a841\"}\n",
       ");\n",
       "\tvar text = document.querySelectorAll(\".xAxisd13f9c976db2412eb6ade4bdd871a841 .tick text\");\n",
       "\tvar i;\n",
       "\tfor (i = 0; i < text.length; i++) {\n",
       "\t\ttext[i].setAttribute(\"transform\", \"rotate(0)\");\n",
       "\t\ttext[i].style.textAnchor=\"middle\";\n",
       "\t}\n",
       "\tdocument.getElementById(\"d13f9c976db2412eb6ade4bdd871a841\").style.height = \"px\";\n",
       "\tdocument.querySelector(\"#d13f9c976db2412eb6ade4bdd871a841 svg\").style.height = \"px\";\n",
       "});\n",
       "</script>\n",
       "\n",
       "</body>\n",
       "</html>"
      ],
      "text/plain": [
       "<IPython.core.display.HTML object>"
      ]
     },
     "metadata": {},
     "output_type": "display_data"
    }
   ],
   "source": [
    "# Example 1\n",
    "\n",
    "donut = Donut(data={\"labels\": ['a', 'b'], \"values\": [10, 20]}, title=\"Donut Plot\", title_fontsize=2)\n",
    "donut.show()"
   ]
  },
  {
   "cell_type": "code",
   "execution_count": 3,
   "metadata": {},
   "outputs": [
    {
     "data": {
      "text/html": [
       "<html>\n",
       "<body>\n",
       "\n",
       "<div id=8646198e051f4cbd9cbb6bbe70ae1826></div>\n",
       "\n",
       "<script src=\"https://requirejs.org/docs/release/2.3.6/minified/require.js\"></script>\n",
       "<script>\n",
       "require.config({paths: {roughViz: \"https://unpkg.com/rough-viz@1.0.5/dist/roughviz.min\"}});\n",
       "require([\"roughViz\"], function(roughViz) {\n",
       "\n",
       "new roughViz.Donut(\n",
       "  {\"labels\": \"a\", \"values\": \"b\", \"data\": \"example_datasets/vis2.csv\", \"title\": \"Donut Plot\", \"margin\": {\"top\": 50, \"right\": 20, \"bottom\": 70, \"left\": 100}, \"width\": 800, \"height\": 600, \"interactive\": true, \"bowing\": 0.2, \"fillStyle\": \"cross-hatch\", \"fillWeight\": 0, \"strokeWidth\": 1, \"roughness\": 1, \"tooltipFontSize\": \"0.95rem\", \"titleFontSize\": \"2rem\", \"font\": 0, \"highlight\": \"green\", \"innerStrokeWidth\": 0, \"simplification\": 0.2, \"padding\": 0.1, \"legend\": true, \"legendPosition\": \"right\", \"element\": \"#8646198e051f4cbd9cbb6bbe70ae1826\"}\n",
       ");\n",
       "\tvar text = document.querySelectorAll(\".xAxis8646198e051f4cbd9cbb6bbe70ae1826 .tick text\");\n",
       "\tvar i;\n",
       "\tfor (i = 0; i < text.length; i++) {\n",
       "\t\ttext[i].setAttribute(\"transform\", \"rotate(0)\");\n",
       "\t\ttext[i].style.textAnchor=\"middle\";\n",
       "\t}\n",
       "\tdocument.getElementById(\"8646198e051f4cbd9cbb6bbe70ae1826\").style.height = \"px\";\n",
       "\tdocument.querySelector(\"#8646198e051f4cbd9cbb6bbe70ae1826 svg\").style.height = \"px\";\n",
       "});\n",
       "</script>\n",
       "\n",
       "</body>\n",
       "</html>"
      ],
      "text/plain": [
       "<IPython.core.display.HTML object>"
      ]
     },
     "metadata": {},
     "output_type": "display_data"
    }
   ],
   "source": [
    "# Example 2\n",
    "\n",
    "donut = Donut(data=\"example_datasets/vis2.csv\", values=\"b\", labels=\"a\", \n",
    "              title=\"Donut Plot\", title_fontsize=2)\n",
    "\n",
    "donut.show()"
   ]
  },
  {
   "cell_type": "code",
   "execution_count": 4,
   "metadata": {},
   "outputs": [
    {
     "data": {
      "text/html": [
       "<html>\n",
       "<body>\n",
       "\n",
       "<div id=ff1c6271ee974de3954b986e118552b0></div>\n",
       "\n",
       "<script src=\"https://requirejs.org/docs/release/2.3.6/minified/require.js\"></script>\n",
       "<script>\n",
       "require.config({paths: {roughViz: \"https://unpkg.com/rough-viz@1.0.5/dist/roughviz.min\"}});\n",
       "require([\"roughViz\"], function(roughViz) {\n",
       "\n",
       "new roughViz.Donut(\n",
       "  {\"labels\": null, \"values\": null, \"data\": {\"labels\": [\"Mixed Breed\", \"Non-Mixed Breed\"], \"values\": [41569, 16578]}, \"title\": \"Mixed Breed among Adoptable Dogs in the U.S.\", \"margin\": {\"top\": 50, \"right\": 20, \"bottom\": 70, \"left\": 100}, \"width\": 800, \"height\": 600, \"interactive\": true, \"bowing\": 0.2, \"fillStyle\": \"cross-hatch\", \"fillWeight\": 0, \"strokeWidth\": 1, \"roughness\": 1, \"tooltipFontSize\": \"0.95rem\", \"titleFontSize\": \"2rem\", \"font\": 0, \"highlight\": \"green\", \"innerStrokeWidth\": 0, \"simplification\": 0.2, \"padding\": 0.1, \"legend\": true, \"legendPosition\": \"right\", \"element\": \"#ff1c6271ee974de3954b986e118552b0\"}\n",
       ");\n",
       "\tvar text = document.querySelectorAll(\".xAxisff1c6271ee974de3954b986e118552b0 .tick text\");\n",
       "\tvar i;\n",
       "\tfor (i = 0; i < text.length; i++) {\n",
       "\t\ttext[i].setAttribute(\"transform\", \"rotate(0)\");\n",
       "\t\ttext[i].style.textAnchor=\"middle\";\n",
       "\t}\n",
       "\tdocument.getElementById(\"ff1c6271ee974de3954b986e118552b0\").style.height = \"px\";\n",
       "\tdocument.querySelector(\"#ff1c6271ee974de3954b986e118552b0 svg\").style.height = \"px\";\n",
       "});\n",
       "</script>\n",
       "\n",
       "</body>\n",
       "</html>"
      ],
      "text/plain": [
       "<IPython.core.display.HTML object>"
      ]
     },
     "metadata": {},
     "output_type": "display_data"
    }
   ],
   "source": [
    "# Adoptable Dogs Example\n",
    "donut = Donut(data={\"labels\": ['Mixed Breed', 'Non-Mixed Breed'], \"values\": [41569, 16578]}, title=\"Mixed Breed among Adoptable Dogs in the U.S.\", title_fontsize=2)\n",
    "donut.show()"
   ]
  }
 ],
 "metadata": {
  "kernelspec": {
   "display_name": "Python 3 (ipykernel)",
   "language": "python",
   "name": "python3"
  },
  "language_info": {
   "codemirror_mode": {
    "name": "ipython",
    "version": 3
   },
   "file_extension": ".py",
   "mimetype": "text/x-python",
   "name": "python",
   "nbconvert_exporter": "python",
   "pygments_lexer": "ipython3",
   "version": "3.9.12"
  }
 },
 "nbformat": 4,
 "nbformat_minor": 2
}
