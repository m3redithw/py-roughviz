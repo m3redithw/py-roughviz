{
 "cells": [
  {
   "cell_type": "code",
   "execution_count": 1,
   "metadata": {},
   "outputs": [],
   "source": [
    "import sys\n",
    "sys.path.append(\"..\")\n",
    "\n",
    "from roughviz.charts.pie import Pie"
   ]
  },
  {
   "cell_type": "code",
   "execution_count": 2,
   "metadata": {},
   "outputs": [
    {
     "data": {
      "text/html": [
       "<html>\n",
       "<body>\n",
       "\n",
       "<div id=0552f511afd54e8fb9cc0de6039aef3e></div>\n",
       "\n",
       "<script src=\"https://requirejs.org/docs/release/2.3.6/minified/require.js\"></script>\n",
       "<script>\n",
       "require.config({paths: {roughViz: \"https://unpkg.com/rough-viz@1.0.5/dist/roughviz.min\"}});\n",
       "require([\"roughViz\"], function(roughViz) {\n",
       "\n",
       "new roughViz.Pie(\n",
       "  {\"labels\": null, \"values\": null, \"data\": {\"labels\": [\"a\", \"b\"], \"values\": [10, 20]}, \"title\": \"\", \"margin\": {\"top\": 50, \"right\": 20, \"bottom\": 70, \"left\": 100}, \"width\": 800, \"height\": 600, \"interactive\": true, \"bowing\": 0.2, \"fillStyle\": \"cross-hatch\", \"fillWeight\": 0, \"strokeWidth\": 1, \"roughness\": 1, \"tooltipFontSize\": \"0.95rem\", \"titleFontSize\": \"0.95rem\", \"colors\": [\"coral\", \"skyblue\", \"#66c2a5\", \"tan\", \"#8da0cb\", \"#e78ac3\", \"#a6d854\", \"#ffd92f\", \"tan\", \"orange\"], \"font\": 0, \"highlight\": \"coral\", \"innerStrokeWidth\": 0, \"simplification\": 0.2, \"padding\": 0.1, \"legend\": true, \"legendPosition\": \"right\", \"element\": \"#0552f511afd54e8fb9cc0de6039aef3e\"}\n",
       ");\n",
       "\tvar text = document.querySelectorAll(\".xAxis0552f511afd54e8fb9cc0de6039aef3e .tick text\");\n",
       "\tvar i;\n",
       "\tfor (i = 0; i < text.length; i++) {\n",
       "\t\ttext[i].setAttribute(\"transform\", \"rotate(0)\");\n",
       "\t\ttext[i].style.textAnchor=\"middle\";\n",
       "\t}\n",
       "\tdocument.getElementById(\"0552f511afd54e8fb9cc0de6039aef3e\").style.height = \"px\";\n",
       "\tdocument.querySelector(\"#0552f511afd54e8fb9cc0de6039aef3e svg\").style.height = \"px\";\n",
       "});\n",
       "</script>\n",
       "\n",
       "</body>\n",
       "</html>"
      ],
      "text/plain": [
       "<IPython.core.display.HTML object>"
      ]
     },
     "metadata": {},
     "output_type": "display_data"
    }
   ],
   "source": [
    "# Example 1\n",
    "\n",
    "pie = Pie(data={\"labels\": [\"a\", \"b\"], \"values\": [10, 20]})\n",
    "pie.show()"
   ]
  },
  {
   "cell_type": "code",
   "execution_count": 3,
   "metadata": {},
   "outputs": [
    {
     "data": {
      "text/html": [
       "<html>\n",
       "<body>\n",
       "\n",
       "<div id=b3b563f15e8c4185b1bc8ed204716a40></div>\n",
       "\n",
       "<script src=\"https://requirejs.org/docs/release/2.3.6/minified/require.js\"></script>\n",
       "<script>\n",
       "require.config({paths: {roughViz: \"https://unpkg.com/rough-viz@1.0.5/dist/roughviz.min\"}});\n",
       "require([\"roughViz\"], function(roughViz) {\n",
       "\n",
       "new roughViz.Pie(\n",
       "  {\"labels\": \"a\", \"values\": \"b\", \"data\": \"example_datasets/vis2.csv\", \"title\": \"Pie Plot\", \"margin\": {\"top\": 50, \"right\": 20, \"bottom\": 70, \"left\": 100}, \"width\": 800, \"height\": 600, \"interactive\": true, \"bowing\": 0.2, \"fillStyle\": \"cross-hatch\", \"fillWeight\": 0, \"strokeWidth\": 1, \"roughness\": 1, \"tooltipFontSize\": \"0.95rem\", \"titleFontSize\": \"2rem\", \"colors\": [\"tan\", \"orange\"], \"font\": 0, \"highlight\": \"coral\", \"innerStrokeWidth\": 0, \"simplification\": 0.2, \"padding\": 0.1, \"legend\": true, \"legendPosition\": \"right\", \"element\": \"#b3b563f15e8c4185b1bc8ed204716a40\"}\n",
       ");\n",
       "\tvar text = document.querySelectorAll(\".xAxisb3b563f15e8c4185b1bc8ed204716a40 .tick text\");\n",
       "\tvar i;\n",
       "\tfor (i = 0; i < text.length; i++) {\n",
       "\t\ttext[i].setAttribute(\"transform\", \"rotate(0)\");\n",
       "\t\ttext[i].style.textAnchor=\"middle\";\n",
       "\t}\n",
       "\tdocument.getElementById(\"b3b563f15e8c4185b1bc8ed204716a40\").style.height = \"px\";\n",
       "\tdocument.querySelector(\"#b3b563f15e8c4185b1bc8ed204716a40 svg\").style.height = \"px\";\n",
       "});\n",
       "</script>\n",
       "\n",
       "</body>\n",
       "</html>"
      ],
      "text/plain": [
       "<IPython.core.display.HTML object>"
      ]
     },
     "metadata": {},
     "output_type": "display_data"
    }
   ],
   "source": [
    "pie = Pie(data=\"example_datasets/vis2.csv\", values=\"b\", labels=\"a\")\n",
    "pie.set_title(\"Pie Plot\", fontsize=2)\n",
    "pie.set_options(colors=[\"tan\", \"orange\"])\n",
    "\n",
    "pie.show()"
   ]
  }
 ],
 "metadata": {
  "kernelspec": {
   "display_name": "Python 3 (ipykernel)",
   "language": "python",
   "name": "python3"
  },
  "language_info": {
   "codemirror_mode": {
    "name": "ipython",
    "version": 3
   },
   "file_extension": ".py",
   "mimetype": "text/x-python",
   "name": "python",
   "nbconvert_exporter": "python",
   "pygments_lexer": "ipython3",
   "version": "3.9.12"
  }
 },
 "nbformat": 4,
 "nbformat_minor": 2
}
