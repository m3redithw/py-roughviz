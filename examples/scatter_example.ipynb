{
 "cells": [
  {
   "cell_type": "code",
   "execution_count": 6,
   "metadata": {},
   "outputs": [],
   "source": [
    "import sys\n",
    "sys.path.append(\"..\")\n",
    "\n",
    "from roughviz.charts.scatter import Scatter"
   ]
  },
  {
   "cell_type": "code",
   "execution_count": 7,
   "metadata": {},
   "outputs": [
    {
     "data": {
      "text/html": [
       "<html>\n",
       "<body>\n",
       "\n",
       "<div id=53abc3bd0c4e4d97aadb00c36b2c5b29></div>\n",
       "\n",
       "<script src=\"https://requirejs.org/docs/release/2.3.6/minified/require.js\"></script>\n",
       "<script>\n",
       "require.config({paths: {roughViz: \"https://unpkg.com/rough-viz@1.0.5/dist/roughviz.min\"}});\n",
       "require([\"roughViz\"], function(roughViz) {\n",
       "\n",
       "new roughViz.Scatter(\n",
       "  {\"x\": null, \"y\": null, \"data\": {\"x\": [1, 2, 35], \"y\": [10, 20, 8]}, \"title\": \"\", \"margin\": {\"top\": 50, \"right\": 20, \"bottom\": 70, \"left\": 100}, \"width\": 800, \"height\": 600, \"interactive\": true, \"bowing\": 0.2, \"fillStyle\": \"cross-hatch\", \"fillWeight\": 0, \"strokeWidth\": 1, \"roughness\": 1, \"tooltipFontSize\": \"0.95rem\", \"titleFontSize\": \"0.95rem\", \"colors\": [\"coral\", \"skyblue\", \"#66c2a5\", \"tan\", \"#8da0cb\", \"#e78ac3\", \"#a6d854\", \"#ffd92f\", \"tan\", \"orange\"], \"xLabel\": \"\", \"yLabel\": \"\", \"axisFontSize\": \"1.5rem\", \"labelFontSize\": \"2rem\", \"colorZero\": false, \"font\": \"Gaegu\", \"radius\": 8, \"axisRoughness\": 0.5, \"axisStrokeWidth\": 0.5, \"highlight\": \"coral\", \"innerStrokeWidth\": 0, \"simplification\": 0.2, \"stroke\": \"black\", \"element\": \"#53abc3bd0c4e4d97aadb00c36b2c5b29\"}\n",
       ");\n",
       "\tvar text = document.querySelectorAll(\".xAxis53abc3bd0c4e4d97aadb00c36b2c5b29 .tick text\");\n",
       "\tvar i;\n",
       "\tfor (i = 0; i < text.length; i++) {\n",
       "\t\ttext[i].setAttribute(\"transform\", \"rotate(0)\");\n",
       "\t\ttext[i].style.textAnchor=\"middle\";\n",
       "\t}\n",
       "\tdocument.getElementById(\"53abc3bd0c4e4d97aadb00c36b2c5b29\").style.height = \"px\";\n",
       "\tdocument.querySelector(\"#53abc3bd0c4e4d97aadb00c36b2c5b29 svg\").style.height = \"px\";\n",
       "});\n",
       "</script>\n",
       "\n",
       "</body>\n",
       "</html>"
      ],
      "text/plain": [
       "<IPython.core.display.HTML object>"
      ]
     },
     "metadata": {},
     "output_type": "display_data"
    }
   ],
   "source": [
    "# Example 1\n",
    "\n",
    "scatter = Scatter(data={\"x\": [1, 2, 35], \"y\": [10, 20, 8]})\n",
    "scatter.show()"
   ]
  },
  {
   "cell_type": "code",
   "execution_count": 8,
   "metadata": {},
   "outputs": [
    {
     "data": {
      "text/html": [
       "<html>\n",
       "<body>\n",
       "\n",
       "<div id=ba41da7bc40849258b29c5a25fd24840></div>\n",
       "\n",
       "<script src=\"https://requirejs.org/docs/release/2.3.6/minified/require.js\"></script>\n",
       "<script>\n",
       "require.config({paths: {roughViz: \"https://unpkg.com/rough-viz@1.0.5/dist/roughviz.min\"}});\n",
       "require([\"roughViz\"], function(roughViz) {\n",
       "\n",
       "new roughViz.Scatter(\n",
       "  {\"x\": null, \"y\": null, \"data\": {\"x\": [1, 2, 35], \"y\": [10, 20, 8]}, \"title\": \"Scatter Plot\", \"margin\": {\"top\": 50, \"right\": 20, \"bottom\": 70, \"left\": 100}, \"width\": 800, \"height\": 600, \"interactive\": true, \"bowing\": 0.2, \"fillStyle\": \"cross-hatch\", \"fillWeight\": 0, \"strokeWidth\": 1, \"roughness\": 1, \"tooltipFontSize\": \"0.95rem\", \"titleFontSize\": \"3rem\", \"colors\": [\"coral\", \"skyblue\", \"#66c2a5\", \"tan\", \"#8da0cb\", \"#e78ac3\", \"#a6d854\", \"#ffd92f\", \"tan\", \"orange\"], \"xLabel\": \"X\", \"yLabel\": \"Y\", \"axisFontSize\": \"1.5rem\", \"labelFontSize\": \"2rem\", \"colorZero\": false, \"font\": \"Gaegu\", \"radius\": 8, \"axisRoughness\": 0.5, \"axisStrokeWidth\": 0.5, \"highlight\": \"coral\", \"innerStrokeWidth\": 0, \"simplification\": 0.2, \"stroke\": \"black\", \"element\": \"#ba41da7bc40849258b29c5a25fd24840\"}\n",
       ");\n",
       "\tvar text = document.querySelectorAll(\".xAxisba41da7bc40849258b29c5a25fd24840 .tick text\");\n",
       "\tvar i;\n",
       "\tfor (i = 0; i < text.length; i++) {\n",
       "\t\ttext[i].setAttribute(\"transform\", \"rotate(0)\");\n",
       "\t\ttext[i].style.textAnchor=\"middle\";\n",
       "\t}\n",
       "\tdocument.getElementById(\"ba41da7bc40849258b29c5a25fd24840\").style.height = \"px\";\n",
       "\tdocument.querySelector(\"#ba41da7bc40849258b29c5a25fd24840 svg\").style.height = \"px\";\n",
       "});\n",
       "</script>\n",
       "\n",
       "</body>\n",
       "</html>"
      ],
      "text/plain": [
       "<IPython.core.display.HTML object>"
      ]
     },
     "metadata": {},
     "output_type": "display_data"
    }
   ],
   "source": [
    "# Example 2\n",
    "\n",
    "scatter = Scatter(data={\"x\": [1, 2, 35], \"y\": [10, 20, 8]})\n",
    "scatter.set_title(\"Scatter Plot\", fontsize=3)\n",
    "scatter.set_xlabel(\"X\", fontsize=2)\n",
    "scatter.set_ylabel(\"Y\", fontsize=2)\n",
    "\n",
    "scatter.show()"
   ]
  },
  {
   "cell_type": "code",
   "execution_count": 9,
   "metadata": {},
   "outputs": [
    {
     "data": {
      "text/html": [
       "<html>\n",
       "<body>\n",
       "\n",
       "<div id=b30088e2e91e4b40b2b1dc181a442153></div>\n",
       "\n",
       "<script src=\"https://requirejs.org/docs/release/2.3.6/minified/require.js\"></script>\n",
       "<script>\n",
       "require.config({paths: {roughViz: \"https://unpkg.com/rough-viz@1.0.5/dist/roughviz.min\"}});\n",
       "require([\"roughViz\"], function(roughViz) {\n",
       "\n",
       "new roughViz.Scatter(\n",
       "  {\"x\": \"a\", \"y\": \"b\", \"data\": \"example_datasets/vis1.csv\", \"title\": \"Scatter Plot\", \"margin\": {\"top\": 50, \"right\": 20, \"bottom\": 70, \"left\": 100}, \"width\": 800, \"height\": 600, \"interactive\": true, \"bowing\": 0.2, \"fillStyle\": \"cross-hatch\", \"fillWeight\": 0, \"strokeWidth\": 1, \"roughness\": 1, \"tooltipFontSize\": \"0.95rem\", \"titleFontSize\": \"3rem\", \"colors\": [\"coral\", \"skyblue\", \"#66c2a5\", \"tan\", \"#8da0cb\", \"#e78ac3\", \"#a6d854\", \"#ffd92f\", \"tan\", \"orange\"], \"xLabel\": \"X\", \"yLabel\": \"Y\", \"axisFontSize\": \"1.5rem\", \"labelFontSize\": \"2rem\", \"colorZero\": false, \"font\": \"Gaegu\", \"radius\": 8, \"axisRoughness\": 0.5, \"axisStrokeWidth\": 0.5, \"highlight\": \"coral\", \"innerStrokeWidth\": 0, \"simplification\": 0.2, \"stroke\": \"black\", \"element\": \"#b30088e2e91e4b40b2b1dc181a442153\"}\n",
       ");\n",
       "\tvar text = document.querySelectorAll(\".xAxisb30088e2e91e4b40b2b1dc181a442153 .tick text\");\n",
       "\tvar i;\n",
       "\tfor (i = 0; i < text.length; i++) {\n",
       "\t\ttext[i].setAttribute(\"transform\", \"rotate(0)\");\n",
       "\t\ttext[i].style.textAnchor=\"middle\";\n",
       "\t}\n",
       "\tdocument.getElementById(\"b30088e2e91e4b40b2b1dc181a442153\").style.height = \"px\";\n",
       "\tdocument.querySelector(\"#b30088e2e91e4b40b2b1dc181a442153 svg\").style.height = \"px\";\n",
       "});\n",
       "</script>\n",
       "\n",
       "</body>\n",
       "</html>"
      ],
      "text/plain": [
       "<IPython.core.display.HTML object>"
      ]
     },
     "metadata": {},
     "output_type": "display_data"
    }
   ],
   "source": [
    "# Example 3\n",
    "\n",
    "scatter = Scatter(data=\"example_datasets/vis1.csv\", x=\"a\", y=\"b\")\n",
    "scatter.set_title(\"Scatter Plot\", fontsize=3)\n",
    "scatter.set_xlabel(\"X\", fontsize=2)\n",
    "scatter.set_ylabel(\"Y\", fontsize=2)\n",
    "\n",
    "scatter.show()"
   ]
  }
 ],
 "metadata": {
  "kernelspec": {
   "display_name": "Python 3 (ipykernel)",
   "language": "python",
   "name": "python3"
  },
  "language_info": {
   "codemirror_mode": {
    "name": "ipython",
    "version": 3
   },
   "file_extension": ".py",
   "mimetype": "text/x-python",
   "name": "python",
   "nbconvert_exporter": "python",
   "pygments_lexer": "ipython3",
   "version": "3.9.12"
  }
 },
 "nbformat": 4,
 "nbformat_minor": 2
}
